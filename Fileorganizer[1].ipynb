{
 "cells": [
  {
   "cell_type": "markdown",
   "id": "53920cb5-1f51-4cef-a486-d1b4041133fc",
   "metadata": {},
   "source": [
    "## Step 1"
   ]
  },
  {
   "cell_type": "code",
   "execution_count": null,
   "id": "6edb9ced-7c66-4b94-8751-a2f16b5b9395",
   "metadata": {},
   "outputs": [],
   "source": [
    "import os\n",
    "import shutil\n",
    "import csv\n",
    "\n",
    "# Nel primo step del progetto bisogna creare un codice che iteri all'interno della cartella files, stampando le informazione nel formato richiesto\n",
    "# all'interno dell'assignment, tenendo traccia degli spostamenti del file all'interno delle rispettive cartelle all'interno di un file csv di recap\n",
    "\n",
    "# Dopo aver importato i moduli che serviranno, per prima cosa definisco una funzione che, quando chiamata, faccia quanto detto prima e inoltre,\n",
    "# qualora il file non sia già all'interno della sottocartella corrispondente, lo sposti con la funzione shutil.move\n",
    "\n",
    "def elaborate(file, directory, filetype):\n",
    "    \n",
    "    # Stampo le informazioni del file secondo il formato richiesto\n",
    "    print(\"{} type:{} size:{}B\".format(file.split(\".\")[0], filetype, os.path.getsize(os.path.join(directory,file))))\n",
    "    \n",
    "    # Aggiorno il file csv di recap\n",
    "    new_writer.writerow([file.split(\".\")[0], filetype, os.path.getsize(os.path.join(directory, file))])\n",
    "    \n",
    "    # Sposto il file nella sottocartella corrispondente, qualora non sia già al suo interno\n",
    "    if not os.path.isfile(os.path.join(directory, filetype, file)):\n",
    "        shutil.move(os.path.join(directory, file), os.path.join(directory, filetype))    "
   ]
  },
  {
   "cell_type": "code",
   "execution_count": null,
   "id": "42fbe3c1-9700-4fc7-a06a-e9310f167b64",
   "metadata": {},
   "outputs": [],
   "source": [
    "# Per evitare di usare path assoluti, procedo con i path relativi, cambiando la directory all'interno della quale sto operando\n",
    "\n",
    "os.chdir(\"../files/\") \n",
    "directory = os.getcwd() # per rendere il tutto più leggibili, definisco le nuove variabili\n",
    "files = os.listdir(directory)\n",
    "\n",
    "# Procedo con un for loop per creare le sottocartelle qualora non esistessero all'interno della working directory attuale\n",
    "for dirname in [\"audio\", \"images\", \"docs\"]:\n",
    "    if not os.path.isdir(os.path.join(directory, dirname)):\n",
    "        os.makedirs(os.path.join(directory, dirname))\n",
    "        \n",
    "# Creo delle liste con tutti i formati file accettati\n",
    "audio_ext = [\".mp3\"]\n",
    "images_ext = [\".jpg\", \".jpeg\", \".png\"]\n",
    "docs_ext = [\".txt\", \".odt\"]\n",
    "\n",
    "# Se il file di recap csv non esiste già lo creo\n",
    "if not os.path.isfile(os.path.join(directory, \"recap.csv\")):\n",
    "    with open(os.path.join(directory, \"recap.csv\"), \"w\", newline=\"\") as my_csv:\n",
    "        csv_writer = csv.writer(my_csv)\n",
    "        csv_writer.writerow([\"name\", \"type\", \"size(B)\"]) # qui importo gli header del file di recap\n",
    "\n",
    "# Ora bisogna aprire il file csv e per evitare di sovrascrivere le informazioni (cosa che succederebbe usando \"w\") utilizzo il comando \"a\", che sta per \"append\"\n",
    "open_csv = open(os.path.join(directory, \"recap.csv\"), \"a\", newline=\"\")\n",
    "new_writer = csv.writer(open_csv)\n",
    "\n",
    "# e ora elaboro i file nella directory grazie alla funzione elaborate\n",
    "\n",
    "for file in files:\n",
    "    name, extension = os.path.splitext(file)\n",
    "    \n",
    "    if extension in audio_ext:\n",
    "        elaborate(file, directory, \"audio\")\n",
    "    elif extension in images_ext:\n",
    "        elaborate(file, directory, \"images\")\n",
    "    elif extension in docs_ext:\n",
    "        elaborate(file, directory, \"docs\")\n",
    "    else:\n",
    "        print(\"Formato file non supportato\")\n",
    "        \n",
    "open_csv.close() # alla fine chiudo il file csv aperto"
   ]
  },
  {
   "cell_type": "markdown",
   "id": "6c4cc588-a179-492c-b40d-bab885668054",
   "metadata": {},
   "source": [
    "## Step 3"
   ]
  },
  {
   "cell_type": "code",
   "execution_count": null,
   "id": "fa95098a-1984-44ab-b895-4fd68446c005",
   "metadata": {},
   "outputs": [],
   "source": [
    "# Nel terzo step bisogna lavorare sulle immagini presenti nella sottocartella images\n",
    "# Prima importiamo i moduli che ci servono, rispettivamente Image (dalla libreria PIL) e NumPy, assieme al modulo tabulate per la tabella\n",
    "\n",
    "import os\n",
    "import numpy as np\n",
    "from PIL import Image\n",
    "from tabulate import tabulate"
   ]
  },
  {
   "cell_type": "code",
   "execution_count": null,
   "id": "c5c0651b-f64e-4d41-af07-df3b44699744",
   "metadata": {},
   "outputs": [],
   "source": [
    "# Adesso mi devo concentrare sulla sottocartella images, quindi imposto le nuove variabili\n",
    "new_dir = os.path.join(directory, \"images\")\n",
    "images = os.listdir(new_dir)\n",
    "\n",
    "#Intanto apro una lista vuota che mi servirà per inserire le informazioni delle immagini nella tabella\n",
    "table = []\n",
    "\n",
    "# Utilizzo ancora un for loop che operi all'interno della sottocartella su ogni file presente\n",
    "for image in images:\n",
    "    name_img = image.split(\".\")[0] # nome dell'immagine senza la sua estensione\n",
    "    read_img = Image.open(os.path.join(new_dir, image)) # apro l'immagine\n",
    "    np_image = np.array(read_img) # e la trasformo un ndarray\n",
    "    height = np_image.shape[0] # con la funzione shape posso ottenere l'altezza (height)\n",
    "    width = np_image.shape[1] # e l'ampiezza (width) dell'immagine\n",
    "    R, G, B, grayscale, ALPHA=0, 0, 0, 0, 0\n",
    "    # In particolar modo, dobbiamo fare attenzione alla shape delle immagini e al numero di dimensioni. Nella grayscale avremo due dimensioni, con profondità\n",
    "    # (il terzo valore di shape) uguale a 1.\n",
    "    # Una RGB ha 3 dimensioni e 3 canali di colore: ogni pixel avrà dunque tre valori da 0 a 255\n",
    "    if np_image.ndim == 3 and np_image.shape[2] == 3:\n",
    "        R, G, B = np.mean(np_image, axis=(0,1))\n",
    "    elif np_image.ndim == 3 and np_image.shape[2] == 4: #Una RGBA ha 4 canali di colore e si distinguono per il canale ALPHA\n",
    "        R, G, B, ALPHA = np.mean(np_image, axis=(0,1))\n",
    "    else: # Altrimenti è una normale grayscale, dove ogni pixel ha solo un valore da 0 a 255\n",
    "        grayscale = np.mean(np_image)\n",
    "    # alla fine del loop, inserisco i dati all'interno della lista precedentemente creata    \n",
    "    table += [[name_img, height, width, grayscale, R, G, B, ALPHA]]\n",
    "    "
   ]
  },
  {
   "cell_type": "code",
   "execution_count": null,
   "id": "7ef9121a-f986-448c-aed3-78f3d5e318e0",
   "metadata": {},
   "outputs": [],
   "source": [
    "# Con il modulo tabulate inserisco le informazioni raccolte all'interno di una tabella, inserendo gli headers, il formato\n",
    "# e i decimali che voglio visualizzare all'interno delle celle\n",
    "print(tabulate(table, headers=[\"name\", \"height\", \"width\", \"grayscale\", \"R\", \"G\", \"B\", \"ALPHA\"], tablefmt=\"fancy_grid\", floatfmt=\".2f\"))"
   ]
  }
 ],
 "metadata": {
  "kernelspec": {
   "display_name": "Python 3 (ipykernel)",
   "language": "python",
   "name": "python3"
  },
  "language_info": {
   "codemirror_mode": {
    "name": "ipython",
    "version": 3
   },
   "file_extension": ".py",
   "mimetype": "text/x-python",
   "name": "python",
   "nbconvert_exporter": "python",
   "pygments_lexer": "ipython3",
   "version": "3.8.8"
  }
 },
 "nbformat": 4,
 "nbformat_minor": 5
}
